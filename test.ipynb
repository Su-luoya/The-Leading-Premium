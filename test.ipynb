{
 "cells": [
  {
   "cell_type": "code",
   "execution_count": 1,
   "metadata": {},
   "outputs": [
    {
     "data": {
      "text/plain": [
       "[0, 1, 2, 3, 4]"
      ]
     },
     "execution_count": 1,
     "metadata": {},
     "output_type": "execute_result"
    }
   ],
   "source": [
    "list(range(5))"
   ]
  },
  {
   "cell_type": "code",
   "execution_count": 6,
   "metadata": {},
   "outputs": [
    {
     "data": {
      "text/plain": [
       "array([2003, 2003, 2003, 2003, 2003, 2004, 2004, 2004, 2004, 2004, 2005,\n",
       "       2005, 2005, 2005, 2005, 2006, 2006, 2006, 2006, 2006, 2007, 2007,\n",
       "       2007, 2007, 2007, 2008, 2008, 2008, 2008, 2008, 2009, 2009, 2009,\n",
       "       2009, 2009, 2010, 2010, 2010, 2010, 2010, 2011, 2011, 2011, 2011,\n",
       "       2011, 2012, 2012, 2012, 2012, 2012, 2013, 2013, 2013, 2013, 2013,\n",
       "       2014, 2014, 2014, 2014, 2014, 2015, 2015, 2015, 2015, 2015, 2016,\n",
       "       2016, 2016, 2016, 2016, 2017, 2017, 2017, 2017, 2017, 2018, 2018,\n",
       "       2018, 2018, 2018, 2019, 2019, 2019, 2019, 2019, 2020, 2020, 2020,\n",
       "       2020, 2020, 2021, 2021, 2021, 2021, 2021, 2022, 2022, 2022, 2022,\n",
       "       2022])"
      ]
     },
     "execution_count": 6,
     "metadata": {},
     "output_type": "execute_result"
    }
   ],
   "source": [
    "import numpy as np\n",
    "np.repeat(range(2003, 2023),5)"
   ]
  },
  {
   "cell_type": "code",
   "execution_count": 1,
   "metadata": {},
   "outputs": [
    {
     "data": {
      "text/plain": [
       "7"
      ]
     },
     "execution_count": 1,
     "metadata": {},
     "output_type": "execute_result"
    }
   ],
   "source": [
    "29//4"
   ]
  },
  {
   "cell_type": "code",
   "execution_count": null,
   "metadata": {},
   "outputs": [],
   "source": []
  }
 ],
 "metadata": {
  "kernelspec": {
   "display_name": "base",
   "language": "python",
   "name": "python3"
  },
  "language_info": {
   "codemirror_mode": {
    "name": "ipython",
    "version": 3
   },
   "file_extension": ".py",
   "mimetype": "text/x-python",
   "name": "python",
   "nbconvert_exporter": "python",
   "pygments_lexer": "ipython3",
   "version": "3.10.13"
  },
  "orig_nbformat": 4
 },
 "nbformat": 4,
 "nbformat_minor": 2
}
